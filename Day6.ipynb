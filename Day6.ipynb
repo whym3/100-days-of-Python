{
  "nbformat": 4,
  "nbformat_minor": 0,
  "metadata": {
    "colab": {
      "name": "Day6.ipynb",
      "provenance": [],
      "authorship_tag": "ABX9TyPZANhRTVytQ0aXEQF97JrR",
      "include_colab_link": true
    },
    "kernelspec": {
      "name": "python3",
      "display_name": "Python 3"
    },
    "language_info": {
      "name": "python"
    }
  },
  "cells": [
    {
      "cell_type": "markdown",
      "metadata": {
        "id": "view-in-github",
        "colab_type": "text"
      },
      "source": [
        "<a href=\"https://colab.research.google.com/github/whym3/100-days-of-Python/blob/main/Day6.ipynb\" target=\"_parent\"><img src=\"https://colab.research.google.com/assets/colab-badge.svg\" alt=\"Open In Colab\"/></a>"
      ]
    },
    {
      "cell_type": "code",
      "execution_count": 2,
      "metadata": {
        "colab": {
          "base_uri": "https://localhost:8080/"
        },
        "id": "zXt3We0K1kG7",
        "outputId": "35e9cf9d-24e3-43e4-ac5e-7a04965188fc"
      },
      "outputs": [
        {
          "output_type": "stream",
          "name": "stdout",
          "text": [
            "Hello\n",
            "Bye\n"
          ]
        }
      ],
      "source": [
        " #functions\n",
        "\n",
        "def my_function():\n",
        "  print(\"Hello\")\n",
        "  print(\"Bye\")\n",
        "\n",
        "my_function()"
      ]
    },
    {
      "cell_type": "code",
      "source": [
        "#while loop\n",
        "a = 10\n",
        "b = 1\n",
        "while(a>b):\n",
        "  print(\"helo\")\n",
        "  a-=1"
      ],
      "metadata": {
        "colab": {
          "base_uri": "https://localhost:8080/"
        },
        "id": "P3ZsDpg-3MXr",
        "outputId": "ec72060f-8b8c-484a-a98e-a966521523d3"
      },
      "execution_count": 7,
      "outputs": [
        {
          "output_type": "stream",
          "name": "stdout",
          "text": [
            "helo\n",
            "helo\n",
            "helo\n",
            "helo\n",
            "helo\n",
            "helo\n",
            "helo\n",
            "helo\n",
            "helo\n"
          ]
        }
      ]
    },
    {
      "cell_type": "code",
      "source": [
        ""
      ],
      "metadata": {
        "id": "px2_h2VT4yMc"
      },
      "execution_count": null,
      "outputs": []
    }
  ]
}