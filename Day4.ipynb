{
  "nbformat": 4,
  "nbformat_minor": 0,
  "metadata": {
    "colab": {
      "name": "Day4.ipynb",
      "provenance": [],
      "authorship_tag": "ABX9TyMqnRzk2i5YE8YlkMuOYsx9",
      "include_colab_link": true
    },
    "kernelspec": {
      "name": "python3",
      "display_name": "Python 3"
    },
    "language_info": {
      "name": "python"
    }
  },
  "cells": [
    {
      "cell_type": "markdown",
      "metadata": {
        "id": "view-in-github",
        "colab_type": "text"
      },
      "source": [
        "<a href=\"https://colab.research.google.com/github/whym3/100-days-of-Python/blob/main/Day4.ipynb\" target=\"_parent\"><img src=\"https://colab.research.google.com/assets/colab-badge.svg\" alt=\"Open In Colab\"/></a>"
      ]
    },
    {
      "cell_type": "code",
      "execution_count": 1,
      "metadata": {
        "id": "RFYolFI2Q7yp",
        "colab": {
          "base_uri": "https://localhost:8080/"
        },
        "outputId": "362406ef-a102-402f-bb55-a595ad5dfd2d"
      },
      "outputs": [
        {
          "output_type": "stream",
          "name": "stdout",
          "text": [
            "Tails\n"
          ]
        }
      ],
      "source": [
        "import random\n",
        "\n",
        "number = random.randint(1,2)\n",
        "\n",
        "if(number%2==0):\n",
        "    print(\"Heads\")\n",
        "else:\n",
        "    print(\"Tails\")"
      ]
    },
    {
      "cell_type": "code",
      "source": [
        "#Lists\n",
        "\n",
        "countries = [\"India\", \"USA\", \"Germany\"]\n",
        "print(countries)\n",
        "print(countries[1])\n",
        "print(countries[-1])\n",
        "\n",
        "countries[1] = \"China\"   #updating the list\n",
        "print(countries)\n",
        "\n",
        "countries.append(\"Belgium\")  #appending an item\n",
        "print(countries)\n",
        "\n",
        "candy = [\"eclair\", \"choco\", \"blueberry\"]  #adding two lists\n",
        "countries.extend(candy)\n",
        "print(countries)"
      ],
      "metadata": {
        "colab": {
          "base_uri": "https://localhost:8080/"
        },
        "id": "Yi56uVLef4WQ",
        "outputId": "416ad301-6a56-4e1e-ac0b-47523ad3aeae"
      },
      "execution_count": 2,
      "outputs": [
        {
          "output_type": "stream",
          "name": "stdout",
          "text": [
            "['India', 'USA', 'Germany']\n",
            "USA\n",
            "Germany\n",
            "['India', 'China', 'Germany']\n",
            "['India', 'China', 'Germany', 'Belgium']\n",
            "['India', 'China', 'Germany', 'Belgium', 'eclair', 'choco', 'blueberry']\n"
          ]
        }
      ]
    },
    {
      "cell_type": "code",
      "source": [
        "import random\n",
        "namesAsCsv = input(\"Give me evrybody's name\")\n",
        "names = namesAsCsv.split(\",\")\n",
        "print(\"Bill will be paid by : \" , names[random.randint(0,len(names))])"
      ],
      "metadata": {
        "colab": {
          "base_uri": "https://localhost:8080/"
        },
        "id": "KhO-yP_Df7-6",
        "outputId": "d95ebf6c-ca58-4530-9db2-f95d338f624a"
      },
      "execution_count": 3,
      "outputs": [
        {
          "output_type": "stream",
          "name": "stdout",
          "text": [
            "Give me evrybody's namea, b, c, d, e, f\n",
            "Bill will be paid by :   e\n"
          ]
        }
      ]
    },
    {
      "cell_type": "code",
      "source": [
        "#nested lists\n",
        "fruits = [\"apple\", \"banana\", \"grapes\", \"Peaches\"]\n",
        "vegetables = [\"Kale\", \"tomatoes\", \"onmiom\", \"potatoes\"]\n",
        "dirty_dozen = [fruits,vegetables]\n",
        "print(dirty_dozen)"
      ],
      "metadata": {
        "colab": {
          "base_uri": "https://localhost:8080/"
        },
        "id": "OPFPZBESgECV",
        "outputId": "0ed9b37b-9a22-46f3-a1a8-187f67bbb505"
      },
      "execution_count": 4,
      "outputs": [
        {
          "output_type": "stream",
          "name": "stdout",
          "text": [
            "[['apple', 'banana', 'grapes', 'Peaches'], ['Kale', 'tomatoes', 'onmiom', 'potatoes']]\n"
          ]
        }
      ]
    },
    {
      "cell_type": "code",
      "source": [
        "row1 = [\"⬜\", \"⬜\", \"⬜\",]\n",
        "row2 = [\"⬜\", \"⬜\", \"⬜\",]\n",
        "row3 = [\"⬜\", \"⬜\", \"⬜\",]\n",
        "map = [row1, row2, row3]\n",
        "\n",
        "print(f\"{row1}\\n{row2}\\n{row3}\\n\")\n",
        "\n",
        "treasure = input(\"Where do you want to put the treasure? :  \")\n",
        "horizontal = int(treasure[0])\n",
        "vertical = int(treasure[1])\n",
        "\n",
        "map[horizontal-1][vertical-1] = \"T\"\n",
        "print(f\"{row1}\\n{row2}\\n{row3}\\n\")"
      ],
      "metadata": {
        "id": "2-4N9vv5gGS7",
        "outputId": "c61c24c6-0be3-440e-f85d-c08531c02379",
        "colab": {
          "base_uri": "https://localhost:8080/"
        }
      },
      "execution_count": 5,
      "outputs": [
        {
          "output_type": "stream",
          "name": "stdout",
          "text": [
            "['⬜', '⬜', '⬜']\n",
            "['⬜', '⬜', '⬜']\n",
            "['⬜', '⬜', '⬜']\n",
            "\n",
            "Where do you want to put the treasure? :  23\n",
            "['⬜', '⬜', '⬜']\n",
            "['⬜', '⬜', 'T']\n",
            "['⬜', '⬜', '⬜']\n",
            "\n"
          ]
        }
      ]
    }
  ]
}