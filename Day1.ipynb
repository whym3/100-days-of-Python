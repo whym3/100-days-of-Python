{
  "nbformat": 4,
  "nbformat_minor": 0,
  "metadata": {
    "colab": {
      "name": "Day1.ipynb",
      "provenance": [],
      "authorship_tag": "ABX9TyN6NBYIKTl3TQ3FSZMaO/S+",
      "include_colab_link": true
    },
    "kernelspec": {
      "name": "python3",
      "display_name": "Python 3"
    },
    "language_info": {
      "name": "python"
    }
  },
  "cells": [
    {
      "cell_type": "markdown",
      "metadata": {
        "id": "view-in-github",
        "colab_type": "text"
      },
      "source": [
        "<a href=\"https://colab.research.google.com/github/whym3/100-days-of-Python/blob/main/Day1.ipynb\" target=\"_parent\"><img src=\"https://colab.research.google.com/assets/colab-badge.svg\" alt=\"Open In Colab\"/></a>"
      ]
    },
    {
      "cell_type": "markdown",
      "source": [
        "# Day 1\n",
        "I learned about printing, commenting, input, variables and string manipulation."
      ],
      "metadata": {
        "id": "DgQNCsU2-LCp"
      }
    },
    {
      "cell_type": "code",
      "source": [
        "print(\"Hello World!\")      #function to print on the console"
      ],
      "metadata": {
        "colab": {
          "base_uri": "https://localhost:8080/"
        },
        "id": "rHRB6tdF-YkI",
        "outputId": "5f02c6b0-396c-46e9-dfd6-09b75f1f68f5"
      },
      "execution_count": null,
      "outputs": [
        {
          "output_type": "stream",
          "name": "stdout",
          "text": [
            "Hello World!\n"
          ]
        }
      ]
    },
    {
      "cell_type": "code",
      "source": [
        "print(\"Day 1 - Python Print Functoin\")\n",
        "print(\"The function is declared like this:\")   #syntax\n",
        "print(\"print('what to print')\")"
      ],
      "metadata": {
        "colab": {
          "base_uri": "https://localhost:8080/"
        },
        "id": "StYiIe0HBSd6",
        "outputId": "cc954d9f-5402-4191-c1b3-6b4311ecd417"
      },
      "execution_count": null,
      "outputs": [
        {
          "output_type": "stream",
          "name": "stdout",
          "text": [
            "Day 1 - Python Print Functoin\n",
            "The function is declared like this:\n",
            "print('what to print')\n"
          ]
        }
      ]
    },
    {
      "cell_type": "code",
      "source": [
        "print(\"Hello world!\\nHello world!\")  #add \\n to go to next line"
      ],
      "metadata": {
        "colab": {
          "base_uri": "https://localhost:8080/"
        },
        "id": "SKmvoFkbCCZO",
        "outputId": "c2781184-db09-4119-b743-60691ead25e1"
      },
      "execution_count": null,
      "outputs": [
        {
          "output_type": "stream",
          "name": "stdout",
          "text": [
            "Hello world!\n",
            "Hello world!\n"
          ]
        }
      ]
    },
    {
      "cell_type": "code",
      "source": [
        "print(\"Hello\" + \" LucK\")   #String concatenation"
      ],
      "metadata": {
        "colab": {
          "base_uri": "https://localhost:8080/"
        },
        "id": "xLnJCV86CfGK",
        "outputId": "bfaa8da8-1317-46a7-df09-61818974eff5"
      },
      "execution_count": null,
      "outputs": [
        {
          "output_type": "stream",
          "name": "stdout",
          "text": [
            "Hello LucK\n"
          ]
        }
      ]
    },
    {
      "cell_type": "code",
      "source": [
        "print(\"Hello \" + input(\"What is your name?\\n\"))  #here the input function runs first"
      ],
      "metadata": {
        "colab": {
          "base_uri": "https://localhost:8080/"
        },
        "id": "_pz66VhlDK0U",
        "outputId": "329431cf-70d8-4541-9892-9e9cac6ba687"
      },
      "execution_count": null,
      "outputs": [
        {
          "output_type": "stream",
          "name": "stdout",
          "text": [
            "What is your name?\n",
            "LucK\n",
            "Hello LucK\n"
          ]
        }
      ]
    },
    {
      "cell_type": "code",
      "source": [
        "str1 = input(\"What is your name?\\n\")\n",
        "count = 0\n",
        "for i in str1:                               #my answer for length of string\n",
        "  count+=1\n",
        "print(count)"
      ],
      "metadata": {
        "colab": {
          "base_uri": "https://localhost:8080/"
        },
        "id": "9TtbkRPAF827",
        "outputId": "de373adb-6445-4eba-8888-b98dd6a47d77"
      },
      "execution_count": null,
      "outputs": [
        {
          "output_type": "stream",
          "name": "stdout",
          "text": [
            "What is your name?\n",
            "Santosh\n",
            "7\n"
          ]
        }
      ]
    },
    {
      "cell_type": "code",
      "source": [
        "str1 = input(\"What is your name?\\n\")\n",
        "len(str1)                                    #len function returns the length of the object"
      ],
      "metadata": {
        "colab": {
          "base_uri": "https://localhost:8080/"
        },
        "id": "laWfb89cIhd2",
        "outputId": "7904dba5-ac7c-4b59-d7c2-bb49d0d278e0"
      },
      "execution_count": null,
      "outputs": [
        {
          "name": "stdout",
          "output_type": "stream",
          "text": [
            "What is your name?\n",
            "Santosh\n"
          ]
        },
        {
          "output_type": "execute_result",
          "data": {
            "text/plain": [
              "7"
            ]
          },
          "metadata": {},
          "execution_count": 19
        }
      ]
    },
    {
      "cell_type": "code",
      "source": [
        "a = 1\n",
        "b = 2\n",
        "\n",
        "print(\"a: \" , a)\n",
        "print(\"b: \" , b)\n",
        "\n",
        "temp = a\n",
        "a = b                                           #swapping the values\n",
        "b = temp\n",
        "\n",
        "print(\"After swapping\")\n",
        "print(\"a: \" , a)\n",
        "print(\"b: \" , b)"
      ],
      "metadata": {
        "colab": {
          "base_uri": "https://localhost:8080/"
        },
        "id": "REko88rfIzT8",
        "outputId": "b2ccad82-90cb-481c-e1ff-4333f89f45b2"
      },
      "execution_count": null,
      "outputs": [
        {
          "output_type": "stream",
          "name": "stdout",
          "text": [
            "a:  1\n",
            "b:  2\n",
            "After swapping\n",
            "a:  2\n",
            "b:  1\n"
          ]
        }
      ]
    },
    {
      "cell_type": "code",
      "source": [
        "#Band name generator\n",
        "\n",
        "n1 = input(\"What's name of your city?\\n\")\n",
        "n2 = input(\"What's name of your pet?\\n\")\n",
        "print(\"Your band name is : \" , n1 + \" \" + n2)"
      ],
      "metadata": {
        "colab": {
          "base_uri": "https://localhost:8080/"
        },
        "id": "etSoPlh2KYp2",
        "outputId": "9066f163-20f9-43a4-cb91-06353405a3b7"
      },
      "execution_count": null,
      "outputs": [
        {
          "output_type": "stream",
          "name": "stdout",
          "text": [
            "What's name of your city?\n",
            "GGn\n",
            "What's name of your pet?\n",
            "rocky\n",
            "Your band name is :  GGn rocky\n"
          ]
        }
      ]
    }
  ]
}