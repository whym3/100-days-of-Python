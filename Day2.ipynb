{
  "nbformat": 4,
  "nbformat_minor": 0,
  "metadata": {
    "colab": {
      "name": "Day2.ipynb",
      "provenance": [],
      "authorship_tag": "ABX9TyPASBxnF625wKYY56JpYCnW",
      "include_colab_link": true
    },
    "kernelspec": {
      "name": "python3",
      "display_name": "Python 3"
    },
    "language_info": {
      "name": "python"
    }
  },
  "cells": [
    {
      "cell_type": "markdown",
      "metadata": {
        "id": "view-in-github",
        "colab_type": "text"
      },
      "source": [
        "<a href=\"https://colab.research.google.com/github/whym3/100-days-of-Python/blob/main/Day2.ipynb\" target=\"_parent\"><img src=\"https://colab.research.google.com/assets/colab-badge.svg\" alt=\"Open In Colab\"/></a>"
      ]
    },
    {
      "cell_type": "code",
      "execution_count": 1,
      "metadata": {
        "colab": {
          "base_uri": "https://localhost:8080/"
        },
        "id": "hQDVbBZIJ8Cc",
        "outputId": "13b77ddf-f5c6-4372-d324-26d662cf1f9b"
      },
      "outputs": [
        {
          "output_type": "stream",
          "name": "stdout",
          "text": [
            "Hello World!\n"
          ]
        }
      ],
      "source": [
        "print(\"Hello World!\")"
      ]
    },
    {
      "cell_type": "code",
      "source": [
        "print(len(str(2134)))        #typecasting int to string"
      ],
      "metadata": {
        "colab": {
          "base_uri": "https://localhost:8080/"
        },
        "id": "9VDVlVy9KIpH",
        "outputId": "17f0aa8f-a50e-4390-9cab-71fd8d914a87"
      },
      "execution_count": 3,
      "outputs": [
        {
          "output_type": "stream",
          "name": "stdout",
          "text": [
            "4\n"
          ]
        }
      ]
    },
    {
      "cell_type": "code",
      "source": [
        "print(\"Hello\"[1])     #pulling out specific char from string (Subscripting)"
      ],
      "metadata": {
        "colab": {
          "base_uri": "https://localhost:8080/"
        },
        "id": "4CAj2p4PKsPz",
        "outputId": "b9ba3314-db7c-4260-8a05-36bb978a2a55"
      },
      "execution_count": 7,
      "outputs": [
        {
          "output_type": "stream",
          "name": "stdout",
          "text": [
            "l\n"
          ]
        }
      ]
    },
    {
      "cell_type": "code",
      "source": [
        "print(int(\"123\") + int(\"345\"))\n",
        "#Integer\n",
        "12434\n",
        "#Float\n",
        "3.23\n",
        "#Boolean\n",
        "True\n",
        "False"
      ],
      "metadata": {
        "colab": {
          "base_uri": "https://localhost:8080/"
        },
        "id": "KJvf0mlZLDsd",
        "outputId": "2c72c735-d748-4030-95ae-9397854243c3"
      },
      "execution_count": 8,
      "outputs": [
        {
          "output_type": "stream",
          "name": "stdout",
          "text": [
            "468\n"
          ]
        }
      ]
    },
    {
      "cell_type": "code",
      "source": [
        "num = len(input(\"what is your name?\\n\"))\n",
        "print(\"Your name has \" + str(num)+ \" characters\")"
      ],
      "metadata": {
        "colab": {
          "base_uri": "https://localhost:8080/"
        },
        "id": "nInVYk3hMYU-",
        "outputId": "8a5cea14-1f8e-4fd6-ec69-fa1e9404f3bc"
      },
      "execution_count": 12,
      "outputs": [
        {
          "output_type": "stream",
          "name": "stdout",
          "text": [
            "what is your name?\n",
            "LucK\n",
            "Your name has 4 characters\n"
          ]
        }
      ]
    },
    {
      "cell_type": "code",
      "source": [
        "#Write a program that adds the digit in a 2 digit number\n",
        "# 35 = 3+5 = 8\n",
        "\n",
        "num = input(\"Enter a number\")\n",
        "first_digit = num[0]\n",
        "second_digit = num[1]\n",
        "print(int(first_digit) + int(second_digit))"
      ],
      "metadata": {
        "colab": {
          "base_uri": "https://localhost:8080/"
        },
        "id": "7rNFhFpjM_Vc",
        "outputId": "90320658-c2ba-4132-ed0b-6931575ba740"
      },
      "execution_count": 19,
      "outputs": [
        {
          "output_type": "stream",
          "name": "stdout",
          "text": [
            "Enter a number35\n",
            "8\n"
          ]
        }
      ]
    },
    {
      "cell_type": "code",
      "source": [
        "print(3+5)\n",
        "print(7-4)\n",
        "print(3*2)\n",
        "print(6/3)\n",
        "print(2**3)\n",
        "\n",
        "# PEMDAS\n",
        "# Parenthesis     ()\n",
        "# Exponent        **\n",
        "# Multiplication  *\n",
        "# Division        /\n",
        "# Addition        +    \n",
        "# Subtraction     -  "
      ],
      "metadata": {
        "colab": {
          "base_uri": "https://localhost:8080/"
        },
        "id": "UnjQNPVdPAns",
        "outputId": "d64a7a23-8d8a-40c0-abe4-ed51a69e4ce9"
      },
      "execution_count": 21,
      "outputs": [
        {
          "output_type": "stream",
          "name": "stdout",
          "text": [
            "8\n",
            "3\n",
            "6\n",
            "2.0\n",
            "8\n"
          ]
        }
      ]
    },
    {
      "cell_type": "code",
      "source": [
        "#BMI Calculator\n",
        "height = float(input(\"What's your height?\\n\"))\n",
        "weight = float(input(\"Whats's your weight?\\n\"))\n",
        "print(\"Your BMI is \" + str(weight/height**2))"
      ],
      "metadata": {
        "colab": {
          "base_uri": "https://localhost:8080/"
        },
        "id": "v6MPvCFxQMJ2",
        "outputId": "ece877c5-a3a7-484d-f5ef-348094d3719a"
      },
      "execution_count": 24,
      "outputs": [
        {
          "output_type": "stream",
          "name": "stdout",
          "text": [
            "What's your height?\n",
            "1.88\n",
            "Whats's your weight?\n",
            "56.4\n",
            "Your BMI is 15.957446808510639\n"
          ]
        }
      ]
    },
    {
      "cell_type": "code",
      "source": [
        "#Round Funciton\n",
        "print(8/3)\n",
        "print(round(8/3,2))   #Round it to 2 decimal places"
      ],
      "metadata": {
        "colab": {
          "base_uri": "https://localhost:8080/"
        },
        "id": "ACjgXzP1RX_V",
        "outputId": "2b686e9a-aca2-4e42-aea0-1b80d5572716"
      },
      "execution_count": 26,
      "outputs": [
        {
          "output_type": "stream",
          "name": "stdout",
          "text": [
            "2.6666666666666665\n",
            "2.67\n"
          ]
        }
      ]
    },
    {
      "cell_type": "code",
      "source": [
        "#Your life in weeks\n",
        "age = int(input(\"What is your current age?\\n\"))\n",
        "print(\"You have \" + str((90-age)*365) + \" days, \" + str((90-age)*52) + \" weeks and \" + str((90-age)*12) + \" months left\")"
      ],
      "metadata": {
        "colab": {
          "base_uri": "https://localhost:8080/"
        },
        "id": "kvIUMEu8SDS8",
        "outputId": "5415793d-6a2f-4268-e6d0-b8050793a2b9"
      },
      "execution_count": 29,
      "outputs": [
        {
          "output_type": "stream",
          "name": "stdout",
          "text": [
            "What is your current age?\n",
            "12\n",
            "You have 28470 days, 4056 weeks and 936 months left\n"
          ]
        }
      ]
    },
    {
      "cell_type": "code",
      "source": [
        "#tip calculator\n",
        "bill = float(input(\"Welcome to the tip calculator.\\nWhat is the total bill?\\n\"))\n",
        "tip = int(input(\"How much you want to tip? 10, 12, 15\\n\"))\n",
        "people = int(input(\"How many people to split the bill?\\n\"))\n",
        "print(\"Each person should pay: \" + str((bill + ((bill*tip)/100) )/people))\n"
      ],
      "metadata": {
        "colab": {
          "base_uri": "https://localhost:8080/"
        },
        "id": "JiiTkRGsT1tt",
        "outputId": "872b183c-d978-44e3-c5d8-9b0455f1fcbb"
      },
      "execution_count": 32,
      "outputs": [
        {
          "output_type": "stream",
          "name": "stdout",
          "text": [
            "Welcome to the tip calculator.\n",
            "What is the total bill?\n",
            "124.56\n",
            "How much you want to tip? 10, 12, 15\n",
            "12\n",
            "How many people to split the bill?\n",
            "7\n",
            "Each person should pay: 19.9296\n"
          ]
        }
      ]
    },
    {
      "cell_type": "code",
      "source": [
        ""
      ],
      "metadata": {
        "id": "llczod5KV8uX"
      },
      "execution_count": null,
      "outputs": []
    }
  ]
}