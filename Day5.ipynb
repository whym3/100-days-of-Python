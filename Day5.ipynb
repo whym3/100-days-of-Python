{
  "nbformat": 4,
  "nbformat_minor": 0,
  "metadata": {
    "colab": {
      "name": "Day5.ipynb",
      "provenance": [],
      "authorship_tag": "ABX9TyNmj2a2vc3pglJQdJwjait3",
      "include_colab_link": true
    },
    "kernelspec": {
      "name": "python3",
      "display_name": "Python 3"
    },
    "language_info": {
      "name": "python"
    }
  },
  "cells": [
    {
      "cell_type": "markdown",
      "metadata": {
        "id": "view-in-github",
        "colab_type": "text"
      },
      "source": [
        "<a href=\"https://colab.research.google.com/github/whym3/100-days-of-Python/blob/main/Day5.ipynb\" target=\"_parent\"><img src=\"https://colab.research.google.com/assets/colab-badge.svg\" alt=\"Open In Colab\"/></a>"
      ]
    },
    {
      "cell_type": "code",
      "execution_count": 3,
      "metadata": {
        "colab": {
          "base_uri": "https://localhost:8080/"
        },
        "id": "5XvHR9DCi4uQ",
        "outputId": "7c5556f2-1954-42e8-d52d-555e9d5ec593"
      },
      "outputs": [
        {
          "output_type": "stream",
          "name": "stdout",
          "text": [
            "Apple Pie\n",
            "Peach Pie\n",
            "Pear Pie\n"
          ]
        }
      ],
      "source": [
        "fruits = [\"Apple\", \"Peach\", \"Pear\"]\n",
        "for i in fruits:\n",
        "  print(i + \" Pie\")"
      ]
    },
    {
      "cell_type": "code",
      "source": [
        "student_heights = [180, 124, 134, 154, 159, 146, 139]\n",
        "sum = 0\n",
        "for i in student_heights :\n",
        "  sum+=i\n",
        "print(\"Average height is: \" , sum/len(student_heights))"
      ],
      "metadata": {
        "colab": {
          "base_uri": "https://localhost:8080/"
        },
        "id": "2ZuwtG7gjUrm",
        "outputId": "df96a3a9-c919-4d17-f3f1-f4650400bfc0"
      },
      "execution_count": 5,
      "outputs": [
        {
          "output_type": "stream",
          "name": "stdout",
          "text": [
            "Average height is:  148.0\n"
          ]
        }
      ]
    },
    {
      "cell_type": "code",
      "source": [
        "score = [1, 124, 134, 154, 159, 146, 139]\n",
        "high = score[0]\n",
        "for i in score:\n",
        "  if high < i:\n",
        "    high = i\n",
        "\n",
        "print(high)\n"
      ],
      "metadata": {
        "colab": {
          "base_uri": "https://localhost:8080/"
        },
        "id": "fZIxdx1okDrd",
        "outputId": "5674facf-044a-437b-af93-7fef8d38b8a8"
      },
      "execution_count": 13,
      "outputs": [
        {
          "output_type": "stream",
          "name": "stdout",
          "text": [
            "159\n"
          ]
        }
      ]
    },
    {
      "cell_type": "code",
      "source": [
        "#range function in for loop\n",
        "sum = 0\n",
        "for i in range(0,101):\n",
        "  sum+=i\n",
        "print(sum)"
      ],
      "metadata": {
        "colab": {
          "base_uri": "https://localhost:8080/"
        },
        "id": "7PlvVPGimSxP",
        "outputId": "9114fb45-feb7-4161-87cd-59fceef4c95f"
      },
      "execution_count": 15,
      "outputs": [
        {
          "output_type": "stream",
          "name": "stdout",
          "text": [
            "5050\n"
          ]
        }
      ]
    },
    {
      "cell_type": "code",
      "source": [
        "#range function in for loop (start,end,stepby)\n",
        "sum = 0\n",
        "for i in range(0,101,2):\n",
        "  sum+=i\n",
        "print(sum)"
      ],
      "metadata": {
        "colab": {
          "base_uri": "https://localhost:8080/"
        },
        "id": "krZj3Mh-nBm_",
        "outputId": "00c6e239-18e1-4e29-9705-54670ce4a92c"
      },
      "execution_count": 17,
      "outputs": [
        {
          "output_type": "stream",
          "name": "stdout",
          "text": [
            "2550\n"
          ]
        }
      ]
    },
    {
      "cell_type": "code",
      "source": [
        "#Add only even number\n",
        "sum = 0\n",
        "for i in range(0,101):\n",
        "  if i%2 == 0:\n",
        "    sum+=i\n",
        "print(sum)"
      ],
      "metadata": {
        "colab": {
          "base_uri": "https://localhost:8080/"
        },
        "id": "2093KxAhnXr1",
        "outputId": "7f1c7a33-b611-4c0c-abf3-61b0ebf9b9e2"
      },
      "execution_count": 18,
      "outputs": [
        {
          "output_type": "stream",
          "name": "stdout",
          "text": [
            "2550\n"
          ]
        }
      ]
    },
    {
      "cell_type": "code",
      "source": [
        "for i in range(0,101):\n",
        "  if i%3 == 0 and i%5 == 0 :\n",
        "    print(\"FizzBuzz\")\n",
        "  elif i%3 == 0:\n",
        "    print(\"Fizz\")\n",
        "  elif i%5 == 0:\n",
        "    print(\"Buzz\")\n",
        "  else:\n",
        "    print(i)"
      ],
      "metadata": {
        "colab": {
          "base_uri": "https://localhost:8080/"
        },
        "id": "JLulB5tenqAv",
        "outputId": "a0cd62d7-fc85-4801-cfc3-8a137c6a390d"
      },
      "execution_count": 19,
      "outputs": [
        {
          "output_type": "stream",
          "name": "stdout",
          "text": [
            "FizzBuzz\n",
            "1\n",
            "2\n",
            "Fizz\n",
            "4\n",
            "Buzz\n",
            "Fizz\n",
            "7\n",
            "8\n",
            "Fizz\n",
            "Buzz\n",
            "11\n",
            "Fizz\n",
            "13\n",
            "14\n",
            "FizzBuzz\n",
            "16\n",
            "17\n",
            "Fizz\n",
            "19\n",
            "Buzz\n",
            "Fizz\n",
            "22\n",
            "23\n",
            "Fizz\n",
            "Buzz\n",
            "26\n",
            "Fizz\n",
            "28\n",
            "29\n",
            "FizzBuzz\n",
            "31\n",
            "32\n",
            "Fizz\n",
            "34\n",
            "Buzz\n",
            "Fizz\n",
            "37\n",
            "38\n",
            "Fizz\n",
            "Buzz\n",
            "41\n",
            "Fizz\n",
            "43\n",
            "44\n",
            "FizzBuzz\n",
            "46\n",
            "47\n",
            "Fizz\n",
            "49\n",
            "Buzz\n",
            "Fizz\n",
            "52\n",
            "53\n",
            "Fizz\n",
            "Buzz\n",
            "56\n",
            "Fizz\n",
            "58\n",
            "59\n",
            "FizzBuzz\n",
            "61\n",
            "62\n",
            "Fizz\n",
            "64\n",
            "Buzz\n",
            "Fizz\n",
            "67\n",
            "68\n",
            "Fizz\n",
            "Buzz\n",
            "71\n",
            "Fizz\n",
            "73\n",
            "74\n",
            "FizzBuzz\n",
            "76\n",
            "77\n",
            "Fizz\n",
            "79\n",
            "Buzz\n",
            "Fizz\n",
            "82\n",
            "83\n",
            "Fizz\n",
            "Buzz\n",
            "86\n",
            "Fizz\n",
            "88\n",
            "89\n",
            "FizzBuzz\n",
            "91\n",
            "92\n",
            "Fizz\n",
            "94\n",
            "Buzz\n",
            "Fizz\n",
            "97\n",
            "98\n",
            "Fizz\n",
            "Buzz\n"
          ]
        }
      ]
    },
    {
      "cell_type": "code",
      "source": [
        "import random\n",
        "\n",
        "letters = ['a', 'b', 'c', 'd', 'e', 'f', 'g', 'h', 'i', 'j', 'k', 'l', 'm', 'n', 'o', 'p', 'q', 'r', 's', 't', 'u', 'v', 'w', 'x', 'y', 'z', 'A', 'B', 'C', 'D', 'E', 'F', 'G', 'H', 'I', 'J', 'K', 'L', 'M', 'N', 'O', 'P', 'Q', 'R', 'S', 'T', 'U', 'V', 'W', 'X', 'Y', 'Z']\n",
        "numbers = ['0', '1', '2', '3', '4', '5', '6', '7', '8', '9']\n",
        "symbols = ['!', '#', '$', '%', '&', '(', ')', '*', '+']\n",
        "\n",
        "print(\"Welcome to PyPassword Generator!\")\n",
        "\n",
        "letter = int(input(\"How many letters would you like in your password?\\n\"))\n",
        "symbol = int(input(\"How many symbols would you like?\\n\"))\n",
        "number = int(input(\"How many numbers would you like?\\n\"))\n",
        "\n",
        "password = []\n",
        "for i in range(0,letter):\n",
        "  password.append(random.choice(letters))\n",
        "for i in range(0,symbol):\n",
        "  password.append(random.choice(symbols))\n",
        "for i in range(0,number):\n",
        "  password.append(random.choice(numbers))\n",
        "\n",
        "random.shuffle(password)\n",
        "#print(password)\n",
        "string = \"\"\n",
        "for i in password:\n",
        "  string+=i\n",
        "print(\"\\nYour password is: \" + string)"
      ],
      "metadata": {
        "colab": {
          "base_uri": "https://localhost:8080/"
        },
        "id": "btldUbg1osax",
        "outputId": "78581b3b-ee31-4d09-c945-ca6d37367937"
      },
      "execution_count": 33,
      "outputs": [
        {
          "output_type": "stream",
          "name": "stdout",
          "text": [
            "Welcome to PyPassword Generator!\n",
            "How many letters would you like in your password?\n",
            "4\n",
            "How many symbols would you like?\n",
            "5\n",
            "How many numbers would you like?\n",
            "6\n",
            "\n",
            "Your password is: $q#h782S!72O(4!\n"
          ]
        }
      ]
    }
  ]
}