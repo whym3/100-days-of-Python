{
  "nbformat": 4,
  "nbformat_minor": 0,
  "metadata": {
    "colab": {
      "name": "Day3.ipynb",
      "provenance": [],
      "authorship_tag": "ABX9TyOZnPiK7tz1qwEA5L3byRAK",
      "include_colab_link": true
    },
    "kernelspec": {
      "name": "python3",
      "display_name": "Python 3"
    },
    "language_info": {
      "name": "python"
    }
  },
  "cells": [
    {
      "cell_type": "markdown",
      "metadata": {
        "id": "view-in-github",
        "colab_type": "text"
      },
      "source": [
        "<a href=\"https://colab.research.google.com/github/whym3/100-days-of-Python/blob/main/Day3.ipynb\" target=\"_parent\"><img src=\"https://colab.research.google.com/assets/colab-badge.svg\" alt=\"Open In Colab\"/></a>"
      ]
    },
    {
      "cell_type": "code",
      "execution_count": 3,
      "metadata": {
        "colab": {
          "base_uri": "https://localhost:8080/"
        },
        "id": "HnskD94_rTnB",
        "outputId": "75b5fa33-1145-4a46-f284-8d088d8575f1"
      },
      "outputs": [
        {
          "output_type": "stream",
          "name": "stdout",
          "text": [
            "Welcome to rollercoaster\n",
            "What is your height?\n",
            "1000\n",
            "You can ride the rollercoaster\n"
          ]
        }
      ],
      "source": [
        "print(\"Welcome to rollercoaster\")\n",
        "height = int(input(\"What is your height?\\n\"))\n",
        "\n",
        "if height >= 120:\n",
        "  print(\"You can ride the rollercoaster\")\n",
        "else:\n",
        "  print(\"You are not allowed\")"
      ]
    },
    {
      "cell_type": "code",
      "source": [
        "num = int(input(\"Enter a number: \"))\n",
        "if num%2==0:\n",
        "  print(\"Even\")\n",
        "else:\n",
        "  print(\"odd\")"
      ],
      "metadata": {
        "colab": {
          "base_uri": "https://localhost:8080/"
        },
        "id": "TbOWe8-JtAwI",
        "outputId": "07136314-1690-4fad-ca5c-2a24a180d60f"
      },
      "execution_count": 5,
      "outputs": [
        {
          "output_type": "stream",
          "name": "stdout",
          "text": [
            "Enter a number: 23\n",
            "odd\n"
          ]
        }
      ]
    },
    {
      "cell_type": "code",
      "source": [
        "height = int(input(\"Enter your height: \"))\n",
        "age = int(input(\"Enter your age: \"))\n",
        "if height > 120:\n",
        "  if age > 18:\n",
        "    print(\"$12\")\n",
        "  else:\n",
        "    print(\"$7\")\n",
        "else:\n",
        "  print(\"Cant ride\")\n"
      ],
      "metadata": {
        "colab": {
          "base_uri": "https://localhost:8080/"
        },
        "id": "iFz6fCwYt2Pq",
        "outputId": "9b02467f-1927-430d-b348-486c8b93e5fc"
      },
      "execution_count": 8,
      "outputs": [
        {
          "output_type": "stream",
          "name": "stdout",
          "text": [
            "Enter your height: 140\n",
            "Enter your age: 23\n",
            "$12\n"
          ]
        }
      ]
    },
    {
      "cell_type": "code",
      "source": [
        "weight = int(input(\"Enter your weight\\n\"))\n",
        "height = int(input(\"Enter your height\\n\"))\n",
        "bmi = round(weight/height ** 2)\n",
        "\n",
        "if bmi < 18.5:\n",
        "  print(f\"Your bmi is {bmi}, you are underweight\")\n",
        "elif bmi < 25:\n",
        "  print(f\"Your bmi is {bmi}, you are normal\")\n",
        "elif bmi < 30:\n",
        "  print(f\"Your bmi is {bmi}, you are overweight\")\n",
        "elif bmi < 35:\n",
        "  print(f\"Your bmi is {bmi}, you are obese\")\n",
        "else:\n",
        "  print(\"Clinically obese\")"
      ],
      "metadata": {
        "colab": {
          "base_uri": "https://localhost:8080/"
        },
        "id": "qNfEJuFeu7Wd",
        "outputId": "6dee783c-7d4c-4e13-c1c5-ecd1095f3127"
      },
      "execution_count": 11,
      "outputs": [
        {
          "output_type": "stream",
          "name": "stdout",
          "text": [
            "Enter your weight\n",
            "2\n",
            "Enter your height\n",
            "2\n",
            "Your bmi is 18, you are underweight\n"
          ]
        }
      ]
    },
    {
      "cell_type": "code",
      "source": [
        ""
      ],
      "metadata": {
        "id": "VxAd4Nl3xtY_"
      },
      "execution_count": null,
      "outputs": []
    }
  ]
}